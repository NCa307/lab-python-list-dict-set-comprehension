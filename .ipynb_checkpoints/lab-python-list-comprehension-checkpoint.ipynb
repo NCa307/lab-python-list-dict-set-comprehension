{
 "cells": [
  {
   "cell_type": "markdown",
   "id": "25d7736c-ba17-4aff-b6bb-66eba20fbf4e",
   "metadata": {},
   "source": [
    "# Lab | List, Dict and Set Comprehension"
   ]
  },
  {
   "cell_type": "markdown",
   "id": "7dd3cbde-675a-4b81-92c3-f728846dbe06",
   "metadata": {},
   "source": [
    "## Exercise: Managing Customer Orders Optimized with Comprehension"
   ]
  },
  {
   "cell_type": "code",
   "execution_count": 40,
   "id": "24b66b91-08da-4c75-9dfc-ab29e868b4c9",
   "metadata": {},
   "outputs": [],
   "source": [
    "product_names = [\"t-shirt\",\"mug\",\"hat\",\"book\",\"keychain\"]\n",
    "def initialize_inventory(product_names):\n",
    "    inventory = {product: int(input(f\"Enter the quantity of {product} in inventory\")) for product in product_names}\n",
    "    return inventory"
   ]
  },
  {
   "cell_type": "code",
   "execution_count": 41,
   "id": "72de7dc6-a3d0-4592-80b7-836f98b3ce4d",
   "metadata": {},
   "outputs": [
    {
     "name": "stdin",
     "output_type": "stream",
     "text": [
      "Enter the quantity of t-shirt in inventory 45\n",
      "Enter the quantity of mug in inventory 43\n",
      "Enter the quantity of hat in inventory 56\n",
      "Enter the quantity of book in inventory 34\n",
      "Enter the quantity of keychain in inventory 53\n"
     ]
    }
   ],
   "source": [
    "inventory=initialize_inventory(product_names)"
   ]
  },
  {
   "cell_type": "code",
   "execution_count": 42,
   "id": "7b4659ec-56e3-4dac-ad6c-f1d759124acd",
   "metadata": {},
   "outputs": [
    {
     "data": {
      "text/plain": [
       "{'t-shirt': 45, 'mug': 43, 'hat': 56, 'book': 34, 'keychain': 53}"
      ]
     },
     "execution_count": 42,
     "metadata": {},
     "output_type": "execute_result"
    }
   ],
   "source": [
    "inventory"
   ]
  },
  {
   "cell_type": "code",
   "execution_count": 43,
   "id": "825325f7-8e74-4b4e-b230-779aad1255d6",
   "metadata": {},
   "outputs": [],
   "source": [
    "def get_customer_orders(product_names):\n",
    "    customer_orders = {product: int(input(f\"Enter the quantity of the {product} that a customer wants to order\")) for product in product_names} \n",
    "    return customer_orders"
   ]
  },
  {
   "cell_type": "code",
   "execution_count": 45,
   "id": "8523b722-238a-4605-b37e-e18a2ebbc3fc",
   "metadata": {},
   "outputs": [
    {
     "name": "stdin",
     "output_type": "stream",
     "text": [
      "Enter the quantity of the t-shirt that a customer wants to order 3\n",
      "Enter the quantity of the mug that a customer wants to order 5\n",
      "Enter the quantity of the hat that a customer wants to order 0\n",
      "Enter the quantity of the book that a customer wants to order 6\n",
      "Enter the quantity of the keychain that a customer wants to order 0\n"
     ]
    }
   ],
   "source": [
    "customer_orders=get_customer_orders(product_names)"
   ]
  },
  {
   "cell_type": "code",
   "execution_count": 46,
   "id": "daf82639-787f-46d1-95b3-fa5a8668fe85",
   "metadata": {},
   "outputs": [
    {
     "data": {
      "text/plain": [
       "{'t-shirt': 3, 'mug': 5, 'hat': 0, 'book': 6, 'keychain': 0}"
      ]
     },
     "execution_count": 46,
     "metadata": {},
     "output_type": "execute_result"
    }
   ],
   "source": [
    "customer_orders"
   ]
  },
  {
   "cell_type": "code",
   "execution_count": 51,
   "id": "4da6b2b5-c8d8-4ce8-974e-faf38f210421",
   "metadata": {},
   "outputs": [],
   "source": [
    "def product_price(customer_orders):\n",
    "    product_price = {product: int(input(f\"Enter the price {product}\")) for product in customer_orders} \n",
    "    return product_price"
   ]
  },
  {
   "cell_type": "code",
   "execution_count": 52,
   "id": "232dff97-1f3d-4b50-8885-046f2c061375",
   "metadata": {},
   "outputs": [
    {
     "name": "stdin",
     "output_type": "stream",
     "text": [
      "Enter the price t-shirt 5\n",
      "Enter the price mug 4\n",
      "Enter the price hat 6\n",
      "Enter the price book 7\n",
      "Enter the price keychain 8\n"
     ]
    }
   ],
   "source": [
    "product_price=product_price(customer_orders)"
   ]
  },
  {
   "cell_type": "code",
   "execution_count": 53,
   "id": "28a7624c-0ccd-47ac-8434-87e35f872208",
   "metadata": {},
   "outputs": [
    {
     "data": {
      "text/plain": [
       "{'t-shirt': 5, 'mug': 4, 'hat': 6, 'book': 7, 'keychain': 8}"
      ]
     },
     "execution_count": 53,
     "metadata": {},
     "output_type": "execute_result"
    }
   ],
   "source": [
    "product_price"
   ]
  },
  {
   "cell_type": "code",
   "execution_count": 66,
   "id": "1c733786-886b-4b69-875f-45b66b6e8e9e",
   "metadata": {},
   "outputs": [],
   "source": [
    "def calculate_total_price(product_price,customer_orders):\n",
    "    total_price=0\n",
    "    for product,price in product_price.items():\n",
    "        if product in customer_orders:\n",
    "            total_price += (price*customer_orders[product])\n",
    "    return total_price"
   ]
  },
  {
   "cell_type": "code",
   "execution_count": 70,
   "id": "e1272872-0ee7-4e99-93ec-19f68ac6703d",
   "metadata": {},
   "outputs": [
    {
     "data": {
      "text/plain": [
       "77"
      ]
     },
     "execution_count": 70,
     "metadata": {},
     "output_type": "execute_result"
    }
   ],
   "source": [
    "total = calculate_total_price(product_price, customer_orders)\n",
    "total"
   ]
  },
  {
   "cell_type": "markdown",
   "id": "5d500160-2fb7-4777-b5e4-09d45ebaf328",
   "metadata": {},
   "source": [
    "In the previous exercise, you developed a program to manage customer orders and inventory. Now, let's take it a step further and incorporate comprehension into your code.\n",
    "\n",
    "Follow the steps below to complete the exercise:\n",
    "\n",
    "1. Review your code from the previous exercise and identify areas where you can apply comprehension to simplify and streamline your code. \n",
    "\n",
    "    - *Hint: Apply it to initialize inventory, updating the inventory and printing the updated inventory.*\n",
    "    \n",
    "    - For example, in initializing the inventory, we could have:\n",
    "    \n",
    "        ```python\n",
    "        def initialize_inventory(products):\n",
    "            inventory = {product: int(input(f\"Enter the quantity of {product}s available: \")) for product in products}\n",
    "            return inventory\n",
    "\n",
    "        ```\n",
    "<br>\n",
    "    \n",
    "    \n",
    "2. Modify the function get_customer_orders so it prompts the user to enter the number of customer orders and gathers the product names using a loop and user input. Use comprehension.\n",
    "\n",
    "3. Add a new function to calculate the total price of the customer order. For each product in customer_orders, prompt the user to enter the price of that product. Use comprehension to calculate the total price. Note: assume that the user can only have 1 unit of each product.\n",
    "\n",
    "4. Modify the update_inventory function to remove the product from the inventory if its quantity becomes zero after fulfilling the customer orders. Use comprehension to filter out the products with a quantity of zero from the inventory.\n",
    "\n",
    "5. Print the total price of the customer order.\n",
    "\n",
    "Your code should produce output similar to the following:\n",
    "\n",
    "```python\n",
    "Enter the quantity of t-shirts available:  5\n",
    "Enter the quantity of mugs available:  4\n",
    "Enter the quantity of hats available:  3\n",
    "Enter the quantity of books available:  2\n",
    "Enter the quantity of keychains available:  1\n",
    "Enter the number of customer orders:  2\n",
    "Enter the name of a product that a customer wants to order:  hat\n",
    "Enter the name of a product that a customer wants to order:  keychain\n",
    "\n",
    "Order Statistics:\n",
    "Total Products Ordered: 2\n",
    "Percentage of Unique Products Ordered: 40.0\n",
    "\n",
    "Updated Inventory:\n",
    "t-shirt: 5\n",
    "mug: 4\n",
    "hat: 2\n",
    "book: 2\n",
    "Enter the price of keychain:  5\n",
    "Enter the price of hat:  10\n",
    "Total Price: 15.0\n",
    "\n",
    "```\n"
   ]
  }
 ],
 "metadata": {
  "kernelspec": {
   "display_name": "Python 3",
   "language": "python",
   "name": "python3"
  },
  "language_info": {
   "codemirror_mode": {
    "name": "ipython",
    "version": 3
   },
   "file_extension": ".py",
   "mimetype": "text/x-python",
   "name": "python",
   "nbconvert_exporter": "python",
   "pygments_lexer": "ipython3",
   "version": "3.13.5"
  }
 },
 "nbformat": 4,
 "nbformat_minor": 5
}
