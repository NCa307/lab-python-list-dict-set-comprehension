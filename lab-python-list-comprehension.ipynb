{
 "cells": [
  {
   "cell_type": "markdown",
   "id": "25d7736c-ba17-4aff-b6bb-66eba20fbf4e",
   "metadata": {},
   "source": [
    "# Lab | List, Dict and Set Comprehension"
   ]
  },
  {
   "cell_type": "markdown",
   "id": "7dd3cbde-675a-4b81-92c3-f728846dbe06",
   "metadata": {},
   "source": [
    "## Exercise: Managing Customer Orders Optimized with Comprehension"
   ]
  },
  {
   "cell_type": "code",
   "execution_count": 11,
   "id": "68a1d6ea-9efc-4289-ad69-c671ac3d77e2",
   "metadata": {},
   "outputs": [],
   "source": [
    "product_names = [\"t-shirt\",\"mug\",\"hat\",\"book\",\"keychain\"]\n",
    "def initialize_inventory(product_names):\n",
    "    inventory={}\n",
    "    qties=[int(input(f\"Enter a quantity for the {product}\"))for product in product_names]\n",
    "    inventory=dict(zip(products,qties))\n",
    "    return inventory"
   ]
  },
  {
   "cell_type": "code",
   "execution_count": 15,
   "id": "1ea8468d-1a0c-47bc-aae6-3f82b593a6b1",
   "metadata": {},
   "outputs": [],
   "source": [
    "#comprehension\n",
    "product_names = [\"t-shirt\",\"mug\",\"hat\",\"book\",\"keychain\"]\n",
    "def initialize_inventory(product_names):\n",
    "    inventory = {product: int(input(f\"Enter the quantity of {product} in inventory\")) for product in product_names}\n",
    "    return inventory"
   ]
  },
  {
   "cell_type": "code",
   "execution_count": 16,
   "id": "5a70f830-1475-45e1-af3f-a1adbf2790b8",
   "metadata": {},
   "outputs": [
    {
     "name": "stdin",
     "output_type": "stream",
     "text": [
      "Enter the quantity of t-shirt in inventory 3\n",
      "Enter the quantity of mug in inventory 5\n",
      "Enter the quantity of hat in inventory 7\n",
      "Enter the quantity of book in inventory 4\n",
      "Enter the quantity of keychain in inventory 3\n"
     ]
    },
    {
     "data": {
      "text/plain": [
       "{'t-shirt': 3, 'mug': 5, 'hat': 7, 'book': 4, 'keychain': 3}"
      ]
     },
     "execution_count": 16,
     "metadata": {},
     "output_type": "execute_result"
    }
   ],
   "source": [
    "initialize_inventory(product_names)"
   ]
  },
  {
   "cell_type": "code",
   "execution_count": 30,
   "id": "93345696-7d5b-4d88-98ec-146d2ba31f20",
   "metadata": {},
   "outputs": [],
   "source": [
    "def get_customer_orders(product_names): #the input is product_names that we put in the function \n",
    "    customer_orders=set()\n",
    "    answer=input(\"do you want to add another product? yes or no?\")\n",
    "    while answer==\"yes\":\n",
    "        order=input(\"product the customer wants to order\")\n",
    "        answer=input(\"do you want to add another product?yes or no\")\n",
    "        if order in product_names:\n",
    "            customer_orders.add(order)\n",
    "    return customer_orders "
   ]
  },
  {
   "cell_type": "code",
   "execution_count": 34,
   "id": "3feddffa-6e2c-486b-9786-6fbd0a964bd1",
   "metadata": {},
   "outputs": [
    {
     "name": "stdin",
     "output_type": "stream",
     "text": [
      "do you want to add another product? yes or no? yes\n",
      "product the customer wants to order book\n",
      "do you want to add another product?yes or no yes\n",
      "product the customer wants to order keychain\n",
      "do you want to add another product?yes or no yes\n",
      "product the customer wants to order hat\n",
      "do you want to add another product?yes or no no\n"
     ]
    }
   ],
   "source": [
    "customer_orders=get_customer_orders(product_names)"
   ]
  },
  {
   "cell_type": "code",
   "execution_count": 31,
   "id": "a2c3ca03-af8a-455e-ad1b-c11cff7c8f7f",
   "metadata": {},
   "outputs": [
    {
     "name": "stdin",
     "output_type": "stream",
     "text": [
      "do you want to add another product? yes or no? yes\n",
      "product the customer wants to order hat\n",
      "do you want to add another product?yes or no keychain\n"
     ]
    },
    {
     "data": {
      "text/plain": [
       "{'hat'}"
      ]
     },
     "execution_count": 31,
     "metadata": {},
     "output_type": "execute_result"
    }
   ],
   "source": [
    "get_customer_orders(product_names)"
   ]
  },
  {
   "cell_type": "code",
   "execution_count": 35,
   "id": "7e5c7360-9067-4fd2-bc87-4776635d468e",
   "metadata": {},
   "outputs": [
    {
     "data": {
      "text/plain": [
       "{'book', 'hat', 'keychain'}"
      ]
     },
     "execution_count": 35,
     "metadata": {},
     "output_type": "execute_result"
    }
   ],
   "source": [
    "customer_orders"
   ]
  },
  {
   "cell_type": "code",
   "execution_count": 28,
   "id": "24360953-cfd0-4177-8666-1c343c79ab76",
   "metadata": {},
   "outputs": [],
   "source": [
    "#comprehension\n",
    "customer_orders=[customer_orders.add(order) for order in product_names if order==input]"
   ]
  },
  {
   "cell_type": "code",
   "execution_count": 62,
   "id": "6ece491d-0e06-48e8-9b0c-8680652a5c28",
   "metadata": {},
   "outputs": [
    {
     "data": {
      "text/plain": [
       "{'book', 'hat', 'keychain'}"
      ]
     },
     "execution_count": 62,
     "metadata": {},
     "output_type": "execute_result"
    }
   ],
   "source": [
    "customer_orders"
   ]
  },
  {
   "cell_type": "code",
   "execution_count": 94,
   "id": "5c449cd8-c86f-4c5e-acbe-c920ffec47a5",
   "metadata": {},
   "outputs": [],
   "source": [
    "def price_products(customer_orders):\n",
    "    price_product = {product: int(input(f\"Enter the price of {product} in customer_orders\")) for product in customer_orders}\n",
    "    total_price = sum(price_product.values())\n",
    "    print(f\"Total price: ${total_price}\")\n",
    "    return price_products"
   ]
  },
  {
   "cell_type": "code",
   "execution_count": 95,
   "id": "8a0414fd-0882-4057-add2-19db2f2c1d19",
   "metadata": {},
   "outputs": [
    {
     "name": "stdin",
     "output_type": "stream",
     "text": [
      "Enter the price of keychain in customer_orders 3\n",
      "Enter the price of hat in customer_orders 4\n",
      "Enter the price of book in customer_orders 2\n"
     ]
    },
    {
     "name": "stdout",
     "output_type": "stream",
     "text": [
      "Total price: $9\n"
     ]
    }
   ],
   "source": [
    "price_products=price_products(customer_orders)"
   ]
  },
  {
   "cell_type": "code",
   "execution_count": 65,
   "id": "d54933e2-0178-4168-b924-f0dedffb0b91",
   "metadata": {},
   "outputs": [
    {
     "data": {
      "text/plain": [
       "{'book', 'hat', 'keychain'}"
      ]
     },
     "execution_count": 65,
     "metadata": {},
     "output_type": "execute_result"
    }
   ],
   "source": [
    "customer_orders"
   ]
  },
  {
   "cell_type": "code",
   "execution_count": 72,
   "id": "1e45221a-9286-4b96-9881-b3a2e0a07738",
   "metadata": {},
   "outputs": [],
   "source": [
    "def update_inventory(customer_orders, inventory): \n",
    "    for product in customer_orders:\n",
    "        if product in inventory:\n",
    "            inventory[product] -= customer_orders[product]\n",
    "    return inventory"
   ]
  },
  {
   "cell_type": "code",
   "execution_count": 74,
   "id": "1c086701-fee0-4e02-8944-73d2db02bbd0",
   "metadata": {},
   "outputs": [],
   "source": [
    "def update_inventory2(inventory, customer_orders):\n",
    "    inventory1= {product: (inventory[product] - 1 if product in customer_orders else inventory[product]) for product in inventory}\n",
    "    inventory2={product: inventory1[product] for product in inventory1 if inventory1[product]>0}\n",
    "    return inventory2"
   ]
  },
  {
   "cell_type": "code",
   "execution_count": 73,
   "id": "60952def-1f90-47d4-b29e-3aaa973824ee",
   "metadata": {},
   "outputs": [
    {
     "data": {
      "text/plain": [
       "{'book', 'hat', 'keychain'}"
      ]
     },
     "execution_count": 73,
     "metadata": {},
     "output_type": "execute_result"
    }
   ],
   "source": [
    "update_inventory(inventory, customer_orders)"
   ]
  },
  {
   "cell_type": "code",
   "execution_count": 75,
   "id": "b75c86b3-33fd-4d17-bc8a-1109cae0ca08",
   "metadata": {},
   "outputs": [
    {
     "data": {
      "text/plain": [
       "{}"
      ]
     },
     "execution_count": 75,
     "metadata": {},
     "output_type": "execute_result"
    }
   ],
   "source": [
    "update_inventory2(inventory, customer_orders)"
   ]
  },
  {
   "cell_type": "code",
   "execution_count": 61,
   "id": "890be8cd-826b-402d-acfd-f4db7507acc2",
   "metadata": {},
   "outputs": [
    {
     "data": {
      "text/plain": [
       "{}"
      ]
     },
     "execution_count": 61,
     "metadata": {},
     "output_type": "execute_result"
    }
   ],
   "source": []
  },
  {
   "cell_type": "code",
   "execution_count": 6,
   "id": "4a9b3fd8-8bdf-4233-98b5-49c7c587cb7a",
   "metadata": {},
   "outputs": [],
   "source": [
    "product_names = [\"t-shirt\",\"mug\",\"hat\",\"book\",\"keychain\"]\n",
    "sum_products_ordered=sum(customer_orders.values())\n",
    "Percentage_of_products_ordered = round((sum(customer_orders.values())/sum(inventory.values()))*100,2)\n",
    "def calculate_order_statistics(customer_orders, product_names):\n",
    "    sum_products_ordered=sum(customer_orders.values())\n",
    "    Percentage_of_products_ordered = round((sum(customer_orders.values())/sum(inventory.values()))*100,2)\n",
    "    return sum_products_ordered, Percentage_of_products_ordered"
   ]
  },
  {
   "cell_type": "code",
   "execution_count": 7,
   "id": "599ba0ae-e7f8-42f2-8397-f99dd28c4ab0",
   "metadata": {},
   "outputs": [
    {
     "data": {
      "text/plain": [
       "(16, 14.29)"
      ]
     },
     "execution_count": 7,
     "metadata": {},
     "output_type": "execute_result"
    }
   ],
   "source": [
    "calculate_order_statistics(customer_orders, product_names)"
   ]
  },
  {
   "cell_type": "code",
   "execution_count": 8,
   "id": "04dbe5e2-2a2f-452b-9f67-61a5ea9accb3",
   "metadata": {},
   "outputs": [
    {
     "data": {
      "text/plain": [
       "16"
      ]
     },
     "execution_count": 8,
     "metadata": {},
     "output_type": "execute_result"
    }
   ],
   "source": [
    "sum_products_ordered"
   ]
  },
  {
   "cell_type": "code",
   "execution_count": 9,
   "id": "4aa4a3f1-8afd-4b6a-9718-a334c3bd5985",
   "metadata": {},
   "outputs": [
    {
     "data": {
      "text/plain": [
       "14.29"
      ]
     },
     "execution_count": 9,
     "metadata": {},
     "output_type": "execute_result"
    }
   ],
   "source": [
    "Percentage_of_products_ordered"
   ]
  },
  {
   "cell_type": "code",
   "execution_count": 10,
   "id": "e2c9bf8a-cda0-4637-888f-0869f61b1c86",
   "metadata": {},
   "outputs": [],
   "source": [
    "def print_order_statistics(sum_products_ordered, Percentage_of_products_ordered):\n",
    "    print(f\"Total Products Ordered: {sum_products_ordered}\")\n",
    "    print(f\"Percentage of Inventory Ordered: {Percentage_of_products_ordered}%\")"
   ]
  },
  {
   "cell_type": "code",
   "execution_count": 11,
   "id": "904d9613-73e1-4bdb-9d28-39d2e4d88e44",
   "metadata": {},
   "outputs": [
    {
     "name": "stdout",
     "output_type": "stream",
     "text": [
      "Total Products Ordered: 16\n",
      "Percentage of Inventory Ordered: 14.29%\n"
     ]
    }
   ],
   "source": [
    "print_order_statistics(sum_products_ordered, Percentage_of_products_ordered)"
   ]
  },
  {
   "cell_type": "code",
   "execution_count": 12,
   "id": "e2097d27-ca95-4505-be8a-1e018374ec32",
   "metadata": {},
   "outputs": [],
   "source": [
    "def print_order_statistics(inventory):\n",
    "    print(f\"Updated Inventory:{inventory}\")"
   ]
  },
  {
   "cell_type": "code",
   "execution_count": 13,
   "id": "fa6e0326-5d55-4948-bb3f-be169863e66f",
   "metadata": {},
   "outputs": [
    {
     "name": "stdout",
     "output_type": "stream",
     "text": [
      "Updated Inventory:{'t-shirt': 12, 'mug': 23, 'hat': 12, 'book': 42, 'keychain': 23}\n"
     ]
    }
   ],
   "source": [
    "print_order_statistics(inventory)"
   ]
  },
  {
   "cell_type": "markdown",
   "id": "5d500160-2fb7-4777-b5e4-09d45ebaf328",
   "metadata": {},
   "source": [
    "In the previous exercise, you developed a program to manage customer orders and inventory. Now, let's take it a step further and incorporate comprehension into your code.\n",
    "\n",
    "Follow the steps below to complete the exercise:\n",
    "\n",
    "1. Review your code from the previous exercise and identify areas where you can apply comprehension to simplify and streamline your code. \n",
    "\n",
    "    - *Hint: Apply it to initialize inventory, updating the inventory and printing the updated inventory.*\n",
    "    \n",
    "    - For example, in initializing the inventory, we could have:\n",
    "    \n",
    "        ```python\n",
    "        def initialize_inventory(products):\n",
    "            inventory = {product: int(input(f\"Enter the quantity of {product}s available: \")) for product in products}\n",
    "            return inventory\n",
    "\n",
    "        ```\n",
    "<br>\n",
    "    \n",
    "    \n",
    "2. Modify the function get_customer_orders so it prompts the user to enter the number of customer orders and gathers the product names using a loop and user input. Use comprehension.\n",
    "\n",
    "3. Add a new function to calculate the total price of the customer order. For each product in customer_orders, prompt the user to enter the price of that product. Use comprehension to calculate the total price. Note: assume that the user can only have 1 unit of each product.\n",
    "\n",
    "4. Modify the update_inventory function to remove the product from the inventory if its quantity becomes zero after fulfilling the customer orders. Use comprehension to filter out the products with a quantity of zero from the inventory.\n",
    "\n",
    "5. Print the total price of the customer order.\n",
    "\n",
    "Your code should produce output similar to the following:\n",
    "\n",
    "```python\n",
    "Enter the quantity of t-shirts available:  5\n",
    "Enter the quantity of mugs available:  4\n",
    "Enter the quantity of hats available:  3\n",
    "Enter the quantity of books available:  2\n",
    "Enter the quantity of keychains available:  1\n",
    "Enter the number of customer orders:  2\n",
    "Enter the name of a product that a customer wants to order:  hat\n",
    "Enter the name of a product that a customer wants to order:  keychain\n",
    "\n",
    "Order Statistics:\n",
    "Total Products Ordered: 2\n",
    "Percentage of Unique Products Ordered: 40.0\n",
    "\n",
    "Updated Inventory:\n",
    "t-shirt: 5\n",
    "mug: 4\n",
    "hat: 2\n",
    "book: 2\n",
    "Enter the price of keychain:  5\n",
    "Enter the price of hat:  10\n",
    "Total Price: 15.0\n",
    "\n",
    "```\n"
   ]
  }
 ],
 "metadata": {
  "kernelspec": {
   "display_name": "Python 3",
   "language": "python",
   "name": "python3"
  },
  "language_info": {
   "codemirror_mode": {
    "name": "ipython",
    "version": 3
   },
   "file_extension": ".py",
   "mimetype": "text/x-python",
   "name": "python",
   "nbconvert_exporter": "python",
   "pygments_lexer": "ipython3",
   "version": "3.13.5"
  }
 },
 "nbformat": 4,
 "nbformat_minor": 5
}
